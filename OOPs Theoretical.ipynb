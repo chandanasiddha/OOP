{
 "cells": [
  {
   "cell_type": "markdown",
   "id": "adca6acc",
   "metadata": {},
   "source": [
    "### Theoretical Questions"
   ]
  },
  {
   "cell_type": "markdown",
   "id": "de08cc67",
   "metadata": {},
   "source": [
    "### 1. What is Object-Oriented Programming (OOP)"
   ]
  },
  {
   "cell_type": "markdown",
   "id": "4789ad85",
   "metadata": {},
   "source": [
    "Object-Oriented programming (OOP) is a programming paradigm that organizes software design around objects, rather than functions and logic. Object oriented programming aims to implement real world entities like inheritance, class, polymorphism, etc. In programming, the main aim of OOP is to bind together the data and the functions that operates on them, so that no other part of the code can access this data, except that function."
   ]
  },
  {
   "cell_type": "markdown",
   "id": "7865e60b",
   "metadata": {},
   "source": [
    "### 2. What is a class in OOP"
   ]
  },
  {
   "cell_type": "markdown",
   "id": "b91b0f4a",
   "metadata": {},
   "source": [
    "A class is a user defined data type. It consists of data members and member functions, Which can be accessed and used by creating an instance of that class."
   ]
  },
  {
   "cell_type": "code",
   "execution_count": 9,
   "id": "bb2266b7-8cda-42fe-9efa-08e6cc73b89c",
   "metadata": {},
   "outputs": [],
   "source": [
    "class Student:\n",
    "    #constructor >> constructing class with initialisation of variables/data\n",
    "    def __init__(self, name):\n",
    "        self.name = name"
   ]
  },
  {
   "cell_type": "code",
   "execution_count": 10,
   "id": "3b62057b-36b9-42a7-9c93-ba6cd07bc4c6",
   "metadata": {},
   "outputs": [],
   "source": [
    "obj = Student(\"Chandana\")"
   ]
  },
  {
   "cell_type": "code",
   "execution_count": 11,
   "id": "8b10f077-0d02-4b40-938f-888bcf286a1e",
   "metadata": {},
   "outputs": [
    {
     "data": {
      "text/plain": [
       "'Chandana'"
      ]
     },
     "execution_count": 11,
     "metadata": {},
     "output_type": "execute_result"
    }
   ],
   "source": [
    "obj.name"
   ]
  },
  {
   "cell_type": "markdown",
   "id": "dc61cb4b",
   "metadata": {},
   "source": [
    "### 3. What is an object in OOP"
   ]
  },
  {
   "cell_type": "markdown",
   "id": "214e9140",
   "metadata": {},
   "source": [
    "An object is an instantification class. when a class is defined, no memory is allocated but when it is instantiated (An object is created) memory is allocated. An object has a identity, state, and behavior. Each object contains data and code to manipulate the data. Objects can interact without having to know details of each other's data or code. It is sufficient to know that the type of message accepted and type of response written by the objects."
   ]
  },
  {
   "cell_type": "markdown",
   "id": "da380c18",
   "metadata": {},
   "source": [
    "### 4. What is the difference between abstraction and encapsulation"
   ]
  },
  {
   "cell_type": "markdown",
   "id": "86d0774c",
   "metadata": {},
   "source": [
    "Abstraction and encapsulation are two pillars of object-oriented programming. They might seem similar, but they serve distinct purposes*:\n",
    "\n",
    "**Abstraction** is all about hiding unnecessary details and exposing only the essential features. Think of it like driving a car—you don't need to know the intricate workings of the engine; you just need to know how to steer, accelerate, and brake. Abstraction simplifies complex systems by focusing on what an object does rather than how it does it.\n",
    "\n",
    "**Encapsulation** on the other hand, is about restricting direct access to an object's data and protecting it from unintended interference. It's like keeping sensitive documents locked in a safe—only authorized people (or methods, in programming terms) should be able to access or modify them. Encapsulation helps maintain integrity and security by bundling data and the methods that operate on it within a single unit (typically a class) and controlling access through access modifiers like private, protected, and public.\n"
   ]
  },
  {
   "cell_type": "markdown",
   "id": "16d9952b",
   "metadata": {},
   "source": [
    "### 5. What are dunder methods in Python"
   ]
  },
  {
   "cell_type": "markdown",
   "id": "d6a8a3dc",
   "metadata": {},
   "source": [
    "Dunder methods is short form of \"double underscore\" methods in Python are special methods that start and end with double underscores, like '__init__', '__str__', and '__repr__'. They are also called magic methods because they allow developers to customize the behavior of objects and integrate seamlessly with built-in Python functionalities.\n",
    "\n",
    "Here are a few commonly used dunder methods:\n",
    "__init__ :The constructor method, called when a new object is instantiated.\n",
    "\n",
    "__str__ :Defines how an object is represented as a string (used by 'print()').\n",
    "\n",
    "__len__ :Specifies the length of an object (used by `len()`).\n",
    "\n",
    "__add__ :Allows custom behavior for the `+` operator when working with objects.\n",
    "\n",
    "__call__ :Makes an object callable like a function.\n"
   ]
  },
  {
   "cell_type": "markdown",
   "id": "b35b3008",
   "metadata": {},
   "source": [
    "### 6. Explain the concept of inheritance in OOP"
   ]
  },
  {
   "cell_type": "markdown",
   "id": "ed698b64",
   "metadata": {},
   "source": [
    "Inheritance is a fundamental concept in Object-Oriented Programming (OOP) that allows a class to derive properties and behaviors from another class. It promotes code reusability and a hierarchical relationship between classes.\n",
    "\n",
    "**Parent & Child Classes:** The class being inherited from is called the parent (or base) clas, and the class inheriting it is called the child (or derived) class.\n",
    "\n",
    "**Access to Attributes & Methods:** The child class gains access to the parent class's attributes and methods without rewriting them.\n",
    "\n",
    "**Customization:** The child class can override or extend the behavior of inherited methods.\n"
   ]
  },
  {
   "cell_type": "code",
   "execution_count": 13,
   "id": "9d095578",
   "metadata": {},
   "outputs": [
    {
     "name": "stdout",
     "output_type": "stream",
     "text": [
      "Buddy says Bow!\n",
      "Whiskers says Meow!\n"
     ]
    }
   ],
   "source": [
    "class Animal:  # Parent Class\n",
    "    def __init__(self, name):\n",
    "        self.name = name\n",
    "\n",
    "    def speak(self):\n",
    "        return \"Some generic sound\"\n",
    "\n",
    "class Dog(Animal):  # Child Class inheriting from Animal\n",
    "    def speak(self):  # Overriding the parent method\n",
    "        return \"Bow!\"\n",
    "\n",
    "class Cat(Animal):\n",
    "    def speak(self):\n",
    "        return \"Meow!\"\n",
    "\n",
    "# Creating objects\n",
    "dog = Dog(\"Buddy\")\n",
    "cat = Cat(\"Whiskers\")\n",
    "\n",
    "print(dog.name, \"says\", dog.speak())  # Buddy says Bow!\n",
    "print(cat.name, \"says\", cat.speak())  # Whiskers says Meow!"
   ]
  },
  {
   "cell_type": "markdown",
   "id": "08129f56",
   "metadata": {},
   "source": [
    "### 7. What is polymorphism in OOP"
   ]
  },
  {
   "cell_type": "markdown",
   "id": "cbda9def",
   "metadata": {},
   "source": [
    "Polymorphism allows methods to have the same name but behave differently based on the object's context. It can be achieved through method overriding or overloading.\n",
    "\n",
    "Types of Polymorphism:\n",
    "\n",
    "**Compile-Time Polymorphism:** This type of polymorphism is determined during the compilation of the program. It allows methods or operators with the same name to behave differently based on their input parameters or usage. It is commonly referred to as method or operator overloading.\n",
    "\n",
    "**Run-Time Polymorphism:** This type of polymorphism is determined during the execution of the program. It occurs when a subclass provides a specific implementation for a method already defined in its parent class, commonly known as method overriding."
   ]
  },
  {
   "cell_type": "code",
   "execution_count": 16,
   "id": "18743505",
   "metadata": {},
   "outputs": [
    {
     "name": "stdout",
     "output_type": "stream",
     "text": [
      "5\n",
      "9\n"
     ]
    }
   ],
   "source": [
    "#Compile-time polymorphism\n",
    "class Math:\n",
    "    def add(self, a, b, c=0):  # Overloaded method with default value\n",
    "        return a + b + c\n",
    "\n",
    "obj = Math()\n",
    "print(obj.add(2, 3))  # Calls the method with two arguments\n",
    "print(obj.add(2, 3, 4))  # Calls the method with three arguments"
   ]
  },
  {
   "cell_type": "code",
   "execution_count": 17,
   "id": "70c4519d",
   "metadata": {},
   "outputs": [
    {
     "name": "stdout",
     "output_type": "stream",
     "text": [
      "Bark!\n"
     ]
    }
   ],
   "source": [
    "#Run-time polymorphism\n",
    "class Animal:\n",
    "    def speak(self):\n",
    "        return \"Some generic sound\"\n",
    "\n",
    "class Dog(Animal):\n",
    "    def speak(self):  # Overriding parent method\n",
    "        return \"Bark!\"\n",
    "\n",
    "dog = Dog()\n",
    "print(dog.speak())  # Bark!"
   ]
  },
  {
   "cell_type": "markdown",
   "id": "2d7e64d7",
   "metadata": {},
   "source": [
    "### 8. How is encapsulation achieved in Python"
   ]
  },
  {
   "cell_type": "markdown",
   "id": "fc0468ad",
   "metadata": {},
   "source": [
    "Encapsulation is the bundling of data (attributes) and methods (functions) within a class, restricting access to some components to control interactions.\n",
    "\n",
    "A class is an example of encapsulation as it encapsulates all the data that is member functions, variables, etc.\n",
    "\n",
    "Types of Encapsulation:\n",
    "1) Public Members: Accessible from anywhere.\n",
    "2) Protected Members: Accessible within the class and its subclasses.\n",
    "3) Private Members: Accessible only within the class.\n"
   ]
  },
  {
   "cell_type": "markdown",
   "id": "85573c5a",
   "metadata": {},
   "source": [
    "### 9. What is a constructor in Python"
   ]
  },
  {
   "cell_type": "markdown",
   "id": "1f7b0cd4",
   "metadata": {},
   "source": [
    "A constructor is a special method that is called automatically when an object is created from a class. Its main role is to initialize the object by setting up its attributes or state.\n",
    "\n",
    "The method __new__ is the constructor that creates a new instance of the class while __init__ is the initializer that sets up the instance's attributes after creation. These methods work together to manage object creation and initialization.\n",
    "\n",
    "__new__ Method\n",
    "This method is responsible for creating a new instance of a class. It allocates memory and returns the new object. It is called before __init__.\n",
    "\n",
    "__init__ Method\n",
    "This method initializes the newly created instance and is commonly used as a constructor in Python. It is called immediately after the object is created by __new__ method and is responsible for initializing attributes of the instance.\n",
    "\n",
    "Types of Constructors\n",
    "Constructors can be of two types.\n",
    "\n",
    "1. Default Constructor\n",
    "A default constructor does not take any parameters other than self. It initializes the object with default attribute values.\n",
    "2. Parameterized Constructor\n",
    "A parameterized constructor accepts arguments to initialize the object's attributes with specific values."
   ]
  },
  {
   "cell_type": "markdown",
   "id": "f92f90d1",
   "metadata": {},
   "source": [
    "### 10. What are class and static methods in Python"
   ]
  },
  {
   "cell_type": "markdown",
   "id": "6c7b8ef0",
   "metadata": {},
   "source": [
    "Class methods and static methods are special types of methods that provide different levels of interaction with class attributes.\n",
    "\n",
    "Class Methods (@classmethod)\n",
    "- Belong to the class rather than an instance.\n",
    "- Use cls as their first parameter to access class-level attributes.\n",
    "- Defined using the @classmethod decorator.\n",
    "\n",
    "Static Methods (@staticmethod)\n",
    "- Do not require class (cls) or instance (self) references.\n",
    "- Used for utility functions that relate to the class but don't need instance-specific data.\n",
    "- Defined using the @staticmethod decorator."
   ]
  },
  {
   "cell_type": "code",
   "execution_count": 20,
   "id": "bee833ef",
   "metadata": {},
   "outputs": [
    {
     "name": "stdout",
     "output_type": "stream",
     "text": [
      "Mammal\n"
     ]
    }
   ],
   "source": [
    "#Example of Class Method:\n",
    "class Animal:\n",
    "    species = \"Mammal\"  # Class attribute\n",
    "\n",
    "    @classmethod\n",
    "    def get_species(cls):  # Class method\n",
    "        return cls.species\n",
    "\n",
    "print(Animal.get_species())  # Mammal\n",
    "#Here, get_species is a class method that accesses the class attribute species.\n"
   ]
  },
  {
   "cell_type": "code",
   "execution_count": 18,
   "id": "7ae5e590",
   "metadata": {},
   "outputs": [
    {
     "name": "stdout",
     "output_type": "stream",
     "text": [
      "8\n"
     ]
    }
   ],
   "source": [
    "#Example of Static Method:\n",
    "class Math:\n",
    "    @staticmethod\n",
    "    def add(x, y):  # Static method\n",
    "        return x + y\n",
    "\n",
    "print(Math.add(3, 5))  # 8"
   ]
  },
  {
   "cell_type": "markdown",
   "id": "54754a75",
   "metadata": {},
   "source": [
    "### 11. What is method overloading in Python"
   ]
  },
  {
   "cell_type": "markdown",
   "id": "ad2011bd",
   "metadata": {},
   "source": [
    "Method Overloading in Python refers to defining multiple methods with the same name but different parameters. However, unlike some other programming languages like Java or C++, Python does not support true method overloading in the traditional sense. Instead, Python achieves method overloading using default arguments or variable-length argument lists (*args and **kwargs)."
   ]
  },
  {
   "cell_type": "markdown",
   "id": "e30b5bb9",
   "metadata": {},
   "source": [
    "### 12. What is method overriding in OOP"
   ]
  },
  {
   "cell_type": "markdown",
   "id": "b51e1bf8",
   "metadata": {},
   "source": [
    "Method Overriding in Object-Oriented Programming (OOP) occurs when a child class provides a new implementation for a method that is already defined in the parent class. This allows the child class to customize behavior while still inheriting properties from the parent.\n",
    "Key Features of Method Overriding:\n",
    "- The method in the child class must have the same name and parameters as the method in the parent class.\n",
    "- It enables run-time polymorphism—the method that gets executed is determined at runtime.\n",
    "- Helps in code reusability while allowing modifications in inherited behavior."
   ]
  },
  {
   "cell_type": "markdown",
   "id": "c8b24d9f",
   "metadata": {},
   "source": [
    "### 13. What is a property decorator in Python"
   ]
  },
  {
   "cell_type": "markdown",
   "id": "4a4fe2ef",
   "metadata": {},
   "source": [
    "A property decorator (@property) is used to define getter methods for instance variables in a more elegant and readable way. It helps in achieving encapsulation by controlling access to class attributes.\n",
    "Why Use @property?\n",
    "- Eliminates the need for explicit getter methods.\n",
    "- Ensures controlled access to private attributes.\n",
    "- Allows computed properties—attributes that act like variables but execute code dynamically."
   ]
  },
  {
   "cell_type": "markdown",
   "id": "8227af0f",
   "metadata": {},
   "source": [
    "### 14. Why is polymorphism important in OOP"
   ]
  },
  {
   "cell_type": "markdown",
   "id": "054df0b3",
   "metadata": {},
   "source": [
    "**Polymorphism** is one of the key principles of **Object-Oriented Programming (OOP)**, allowing objects of different classes to be treated as objects of a common parent class. It enables **flexibility, scalability, and code reusability** by providing a **uniform interface** for different types of objects.\n",
    "\n",
    "### **Why Is Polymorphism Important?**\n",
    "**Enhances Code Reusability**  \n",
    "   - Different classes can **reuse** a common method while customizing its behavior.\n",
    "   - This prevents redundant code and promotes maintainability.\n",
    "\n",
    "**Supports Dynamic Behavior (Run-time Polymorphism)**  \n",
    "   - A method call is **resolved at runtime**, allowing different implementations for different objects.\n",
    "   - Example: An `Animal` class can have a `speak` method, but each subclass (`Dog`, `Cat`) provides its own version.\n",
    "\n",
    "**Improves Extensibility**  \n",
    "   - New subclasses can be introduced **without modifying existing code**, making programs scalable.\n",
    "   - Example: You can add new animal types (`Bird`, `Fish`) with their own `speak()` method without changing how the program calls it.\n",
    "\n",
    "**Simplifies Code Management**  \n",
    "   - Polymorphism allows **unified operations**, reducing complexity in function calls.\n",
    "   - Example: You can iterate through a list of different animals and call `speak()` without checking their type explicitly.\n"
   ]
  },
  {
   "cell_type": "code",
   "execution_count": 25,
   "id": "c02fd5d2",
   "metadata": {},
   "outputs": [
    {
     "name": "stdout",
     "output_type": "stream",
     "text": [
      "Woof!\n",
      "Meow!\n"
     ]
    }
   ],
   "source": [
    "### **Example Demonstrating Polymorphism**\n",
    "class Animal:\n",
    "    def speak(self):\n",
    "        return \"Some generic sound\"\n",
    "\n",
    "class Dog(Animal):\n",
    "    def speak(self):\n",
    "        return \"Woof!\"\n",
    "\n",
    "class Cat(Animal):\n",
    "    def speak(self):\n",
    "        return \"Meow!\"\n",
    "\n",
    "# Using polymorphism\n",
    "animals = [Dog(), Cat()]\n",
    "for animal in animals:\n",
    "\n",
    "    print(animal.speak())  # Calls overridden methods dynamically"
   ]
  },
  {
   "cell_type": "markdown",
   "id": "aa4380f0",
   "metadata": {},
   "source": [
    "### 15. What is an abstract class in Python"
   ]
  },
  {
   "cell_type": "markdown",
   "id": "5640466a",
   "metadata": {},
   "source": [
    "In Python, an **abstract class** is a class that **cannot be instantiated directly** and serves as a **blueprint** for other classes. It is used to enforce the implementation of specific methods in child classes.\n",
    "\n",
    "### **Key Features of Abstract Classes:**\n",
    "Defined using the 'ABC' (Abstract Base Class) module from 'abc'.  \n",
    "Contains one or more **abstract methods** (methods that must be implemented in child classes).  \n",
    "Ensures consistency and standardization across related classes.  \n",
    "Used for **structuring** large codebases and enforcing design rules.\n",
    "\n",
    "\n",
    "### **Why Use Abstract Classes?**\n",
    "- Ensure **common functionality** across multiple child classes.\n",
    "- Provide **structure** while still allowing flexibility.\n",
    "- Force implementation of essential methods in subclasses.\n"
   ]
  },
  {
   "cell_type": "code",
   "execution_count": 27,
   "id": "051d0709",
   "metadata": {},
   "outputs": [
    {
     "name": "stdout",
     "output_type": "stream",
     "text": [
      "Woof!\n"
     ]
    }
   ],
   "source": [
    "#Example of an Abstract Class:\n",
    "\n",
    "from abc import ABC, abstractmethod\n",
    "\n",
    "class Animal(ABC):  # Abstract class\n",
    "    @abstractmethod\n",
    "    def speak(self):\n",
    "        pass  # Abstract method (must be overridden)\n",
    "\n",
    "class Dog(Animal):\n",
    "    def speak(self):\n",
    "        return \"Woof!\"\n",
    "\n",
    "class Cat(Animal):\n",
    "    def speak(self):\n",
    "        return \"Meow!\"\n",
    "\n",
    "# dog = Animal()  # Error! Cannot instantiate an abstract class\n",
    "dog = Dog()  #  Works fine\n",
    "print(dog.speak())  # Woof!"
   ]
  },
  {
   "cell_type": "markdown",
   "id": "52c4ea3d",
   "metadata": {},
   "source": [
    "### 16. What are the advantages of OOP"
   ]
  },
  {
   "cell_type": "markdown",
   "id": "cb6d9468",
   "metadata": {},
   "source": [
    "Object-Oriented Programming (OOP) offers several advantages that make software development more efficient and scalable. Here are some key benefits:\n",
    "\n",
    "1. **Encapsulation** – Data and methods are bundled together, protecting internal object state and preventing unintended interference.\n",
    "2. **Inheritance** – Code reuse is maximized as new classes can inherit properties and behaviors from existing ones, reducing redundancy.\n",
    "3. **Polymorphism** – Objects can take multiple forms, allowing methods to be used interchangeably, simplifying code maintenance and flexibility.\n",
    "4. **Abstraction** – Complex details are hidden, exposing only necessary functionalities, making the code easier to understand and work with.\n",
    "5. **Reusability** – OOP encourages reusable code through class definitions, reducing development time and effort.\n",
    "6. **Scalability** – As software grows, OOP ensures maintainability and adaptability by structuring code effectively."
   ]
  },
  {
   "cell_type": "markdown",
   "id": "2f1dd334",
   "metadata": {},
   "source": [
    "### 17. What is multiple inheritance in Python"
   ]
  },
  {
   "cell_type": "markdown",
   "id": "370a087b",
   "metadata": {},
   "source": [
    "Multiple inheritance in Python is a feature that allows a class to inherit attributes and methods from more than one parent class. This means that a child class can gain functionalities from multiple base classes, promoting code reuse and modular design."
   ]
  },
  {
   "cell_type": "code",
   "execution_count": 2,
   "id": "2500fdf9",
   "metadata": {},
   "outputs": [
    {
     "name": "stdout",
     "output_type": "stream",
     "text": [
      "Animal speaks\n",
      "Bird flies\n",
      "Parrot is green\n"
     ]
    }
   ],
   "source": [
    "class Animal:\n",
    "    def speak(self):\n",
    "        print(\"Animal speaks\")\n",
    "\n",
    "class Bird:\n",
    "    def fly(self):\n",
    "        print(\"Bird flies\")\n",
    "\n",
    "# Child class inheriting from both Animal and Bird\n",
    "class Parrot(Animal, Bird):\n",
    "    def color(self):\n",
    "        print(\"Parrot is green\")\n",
    "\n",
    "# Creating an instance of Parrot\n",
    "parrot = Parrot()\n",
    "parrot.speak()  # Inherited from Animal\n",
    "parrot.fly()    # Inherited from Bird\n",
    "parrot.color()  # Defined in Parrot"
   ]
  },
  {
   "cell_type": "markdown",
   "id": "61aa5a3e",
   "metadata": {},
   "source": [
    "### 18. What is the difference between a class variable and an instance variable"
   ]
  },
  {
   "cell_type": "markdown",
   "id": "69122458",
   "metadata": {},
   "source": [
    "Class variables and instance variables are used to store data, but they differ in scope and behavior.\n",
    "\n",
    "**Class variables**\n",
    "- Shared across the all instance of the classes. \n",
    "- Instead, the class, but outside any method. \n",
    "- Changing its value affects all instance.\n",
    "- Can be accessed though any instance or directly via the class.\n",
    "\n",
    "**Instance variables**\n",
    "- Unique to each instance.\n",
    "- Inside the __init__ method or other instance methods.\n",
    "- Changing its value only affects the specific instances.\n",
    "- Can be accessed only though instance."
   ]
  },
  {
   "cell_type": "markdown",
   "id": "c4357878",
   "metadata": {},
   "source": [
    "### 19. Explain the purpose of ‘’__str__’ and ‘__repr__’ ‘ methods in Python"
   ]
  },
  {
   "cell_type": "markdown",
   "id": "ec7f8fb3",
   "metadata": {},
   "source": [
    "In Python, `__str__` and `__repr__` are special methods used to define **string representations** of objects. They help provide readable and useful descriptions of custom objects.\n",
    "\n",
    "### **1. `__str__` Method**\n",
    "- Called when you use str(object) or print(object).\n",
    "- Returns a user-friendly and readable string representation.\n",
    "- Focuses on providing a clear and informal description.\n",
    "\n",
    "### **2. `__repr__` Method**\n",
    "- Called when you use repr(object) or inspect an object in an interactive shell.\n",
    "- Returns a formal and precise representation intended for debugging.\n",
    "- Should ideally return a string that can be used to recreate the object.\n"
   ]
  },
  {
   "cell_type": "code",
   "execution_count": 5,
   "id": "18e3e882",
   "metadata": {},
   "outputs": [
    {
     "name": "stdout",
     "output_type": "stream",
     "text": [
      "'Python Essentials' by John Doe\n"
     ]
    }
   ],
   "source": [
    "#Example of __str__ method\n",
    "class Book:\n",
    "    def __init__(self, title, author):\n",
    "        self.title = title\n",
    "        self.author = author\n",
    "\n",
    "    def __str__(self):\n",
    "        return f\"'{self.title}' by {self.author}\"\n",
    "\n",
    "# Creating an instance\n",
    "b = Book(\"Python Essentials\", \"John Doe\")\n",
    "\n",
    "print(b)  # Calls __str__ -> Output: 'Python Essentials' by John Doe"
   ]
  },
  {
   "cell_type": "code",
   "execution_count": 6,
   "id": "8724c684",
   "metadata": {},
   "outputs": [
    {
     "name": "stdout",
     "output_type": "stream",
     "text": [
      "Book('Python Essentials', 'John Doe')\n"
     ]
    }
   ],
   "source": [
    "#Example of __repr__ method\n",
    "class Book:\n",
    "    def __init__(self, title, author):\n",
    "        self.title = title\n",
    "        self.author = author\n",
    "\n",
    "    def __repr__(self):\n",
    "        return f\"Book('{self.title}', '{self.author}')\"\n",
    "\n",
    "# Creating an instance\n",
    "b = Book(\"Python Essentials\", \"John Doe\")\n",
    "\n",
    "print(repr(b))  # Calls __repr__ -> Output: Book('Python Essentials', 'John Doe')\n",
    "\n"
   ]
  },
  {
   "cell_type": "markdown",
   "id": "99040874",
   "metadata": {},
   "source": [
    "### 20. What is the significance of the ‘super()’ function in Python"
   ]
  },
  {
   "cell_type": "markdown",
   "id": "7112ffac",
   "metadata": {},
   "source": [
    "The `super()` function in Python is used to **call methods from a parent class** inside a child class. It is particularly useful in **inheritance**, allowing subclasses to access and extend the functionalities of their superclass without explicitly mentioning the parent class name.\n",
    "\n",
    "### **Why is `super()` Significant?**\n",
    "- **Avoids redundancy:** Eliminates the need to manually call parent class methods using `ParentClass.method(self)`.\n",
    "- **Supports multiple inheritance:** Helps maintain order when working with multiple inherited classes.\n",
    "- **Enhances maintainability:** If the parent class method changes, it automatically reflects in child classes.\n",
    "- **Ensures consistency:** Used in `__init__()` to correctly initialize parent attributes within child classes.\n"
   ]
  },
  {
   "cell_type": "markdown",
   "id": "53561da3",
   "metadata": {},
   "source": [
    "### 21. What is the significance of the __del__ method in Python"
   ]
  },
  {
   "cell_type": "markdown",
   "id": "33483bd2",
   "metadata": {},
   "source": [
    "The `__del__` method in Python is a destructor method that is automatically called when an object is about to be destroyed (garbage collected). Its primary purpose is to perform cleanup actions such as closing files, releasing resources, or deleting temporary data before an object is removed from memory.\n",
    "\n",
    "### **Key Features of `__del__`**\n",
    "- **Called automatically** when an object goes out of scope or is deleted using `del object`.\n",
    "- **Used for resource cleanup**, such as closing database connections or releasing memory.\n",
    "- **Does not guarantee immediate execution**—Python uses **garbage collection**, so destruction timing depends on memory management.\n",
    "\n",
    "### **Why is `__del__` Important?**\n",
    "- Ensures **proper cleanup** of resources such as files, databases, and network connections.\n",
    "- Helps **prevent memory leaks** by releasing memory when objects are no longer needed.\n",
    "- Useful when dealing with **external resources** that require explicit termination.\n",
    "\n",
    "### **Considerations When Using `__del__`**\n",
    "- **Not reliable for immediate execution**: Objects might not be destroyed instantly due to Python’s **garbage collection**.\n",
    "- **Circular references** can delay object destruction, as Python's garbage collector may not immediately remove objects referencing each other.\n",
    "- **Alternative:** Use the `with` statement for better resource management instead of relying on `__del__` (especially for file handling)."
   ]
  },
  {
   "cell_type": "markdown",
   "id": "aff19937",
   "metadata": {},
   "source": [
    "### 22. What is the difference between @staticmethod and @classmethod in Python"
   ]
  },
  {
   "cell_type": "markdown",
   "id": "405a6227",
   "metadata": {},
   "source": [
    "### **Difference Between `@staticmethod` and `@classmethod` in Theory**\n",
    "\n",
    "`@staticmethod` and `@classmethod` are method decorators that modify the way a method behaves within a class.\n",
    "\n",
    "#### **1. `@staticmethod`**\n",
    "- A **static method** does not receive any implicit first argument (`self` or `cls`).\n",
    "- It behaves like a regular function but is associated with a class rather than instances.\n",
    "- Since it doesn’t access class attributes or instance attributes, it is mainly used for utility functions that logically belong to the class but don’t require its state.\n",
    "- It can be called using the class name or an instance, but it does not depend on the class or object.\n",
    "\n",
    "#### **2. `@classmethod`**\n",
    "- A **class method** receives `cls` as its first implicit argument, referring to the class itself.\n",
    "- It can access and modify class-level attributes but cannot work directly with instance attributes.\n",
    "- This method is useful when defining factory methods or when making changes to class-level properties.\n",
    "- It can be called using the class name or an instance, but it operates at the class level, affecting all instances."
   ]
  },
  {
   "cell_type": "markdown",
   "id": "a3d8d13d",
   "metadata": {},
   "source": [
    "### 23. How does polymorphism work in Python with inheritance"
   ]
  },
  {
   "cell_type": "markdown",
   "id": "e4f3ed39",
   "metadata": {},
   "source": [
    "### **Polymorphism in Python with Inheritance**  \n",
    "\n",
    "**Polymorphism** is a fundamental concept in object-oriented programming (OOP) that allows methods in different classes to have the same name but behave differently. It enables a single interface to represent different types of objects, making code more flexible and reusable.  \n",
    "\n",
    "### **How Polymorphism Works with Inheritance**  \n",
    "In **inheritance**, a child class inherits attributes and methods from a parent class. Polymorphism allows the child class to modify or extend the behavior of inherited methods while keeping the same method name.  \n",
    "\n",
    "#### **Key Aspects of Polymorphism in Python**\n",
    "1. **Method Overriding** – A child class provides a specific implementation of a method that is already defined in the parent class.\n",
    "2. **Dynamic Method Resolution** – Python determines at runtime which method to invoke based on the object type.\n",
    "3. **Code Flexibility** – Allows a single function to operate on different types of objects without changing its definition."
   ]
  },
  {
   "cell_type": "markdown",
   "id": "57d60802",
   "metadata": {},
   "source": [
    "### 24. What is method chaining in Python OOP"
   ]
  },
  {
   "cell_type": "markdown",
   "id": "da37763e",
   "metadata": {},
   "source": [
    "### **Method Chaining in Python OOP**  \n",
    "\n",
    "**Method chaining** is a programming technique in **Object-Oriented Programming (OOP)** where multiple method calls are linked together in a single statement. This allows for a more **concise, readable, and efficient** way to execute multiple operations sequentially on the same object.  \n",
    "\n",
    "### **How Method Chaining Works**\n",
    "- Each method **returns the object itself (`self`)**, enabling subsequent method calls.\n",
    "- Methods are **chained together**, avoiding the need for intermediate variables.\n",
    "- It improves **code readability and efficiency**.\n"
   ]
  },
  {
   "cell_type": "markdown",
   "id": "d150bbf7",
   "metadata": {},
   "source": [
    "### 25. What is the purpose of the __call__ method in Python?"
   ]
  },
  {
   "cell_type": "markdown",
   "id": "d320d1b5",
   "metadata": {},
   "source": [
    "### **Purpose of the `__call__` Method in Python**  \n",
    "\n",
    "In Python, `__call__` is a **special method** that allows an instance of a class to be called as a **function**. This means that when an object is used with parentheses `()`, Python internally invokes its `__call__` method.\n",
    "\n",
    "### **Why Use `__call__`?**  \n",
    "- Makes objects behave like functions, improving flexibility.  \n",
    "- Encapsulates logic within an instance for reusable functionality.  \n",
    "- Useful in decorators, function wrappers, and stateful function objects.  "
   ]
  },
  {
   "cell_type": "code",
   "execution_count": null,
   "id": "529a0cca",
   "metadata": {},
   "outputs": [],
   "source": []
  }
 ],
 "metadata": {
  "kernelspec": {
   "display_name": "Python 3 (ipykernel)",
   "language": "python",
   "name": "python3"
  },
  "language_info": {
   "codemirror_mode": {
    "name": "ipython",
    "version": 3
   },
   "file_extension": ".py",
   "mimetype": "text/x-python",
   "name": "python",
   "nbconvert_exporter": "python",
   "pygments_lexer": "ipython3",
   "version": "3.11.4"
  },
  "widgets": {
   "application/vnd.jupyter.widget-state+json": {
    "state": {},
    "version_major": 2,
    "version_minor": 0
   }
  }
 },
 "nbformat": 4,
 "nbformat_minor": 5
}
