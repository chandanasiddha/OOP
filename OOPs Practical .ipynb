{
 "cells": [
  {
   "cell_type": "markdown",
   "id": "97e5c338",
   "metadata": {},
   "source": [
    "### Practical Questions:"
   ]
  },
  {
   "cell_type": "markdown",
   "id": "9fdcc218",
   "metadata": {},
   "source": [
    "### 1. Create a parent class Animal with a method speak() that prints a generic message. Create a child class Dog that overrides the speak() method to print \"Bark!\"."
   ]
  },
  {
   "cell_type": "code",
   "execution_count": 2,
   "id": "42fa1066",
   "metadata": {},
   "outputs": [
    {
     "name": "stdout",
     "output_type": "stream",
     "text": [
      "Thos animal makes a sound.\n",
      "Bark!\n"
     ]
    }
   ],
   "source": [
    "class Animal:\n",
    "    def speak(self):\n",
    "        print(\"Thos animal makes a sound.\")\n",
    "class Dog(Animal):\n",
    "    def speak(self):\n",
    "        print(\"Bark!\")\n",
    "        \n",
    "animal=Animal()\n",
    "animal.speak()\n",
    "\n",
    "dog=Dog()\n",
    "dog.speak()"
   ]
  },
  {
   "cell_type": "markdown",
   "id": "5344558c",
   "metadata": {},
   "source": [
    "###  2. Write a program to create an abstract class Shape with a method area(). Derive classes Circle and Rectangle from it and implement the area() method in both."
   ]
  },
  {
   "cell_type": "code",
   "execution_count": 5,
   "id": "b7dea55d",
   "metadata": {},
   "outputs": [
    {
     "name": "stdout",
     "output_type": "stream",
     "text": [
      "Area of Circle: 50.26548245743669\n",
      "Area of Rectangle: 10\n"
     ]
    }
   ],
   "source": [
    "from abc import ABC, abstractmethod\n",
    "import math\n",
    "\n",
    "class Shape(ABC):\n",
    "    @abstractmethod\n",
    "    def area(self):\n",
    "        pass\n",
    "\n",
    "class Circle(Shape):\n",
    "    def __init__(self, radius):\n",
    "        self.radius = radius\n",
    "\n",
    "    def area(self):\n",
    "        return math.pi * self.radius**2\n",
    "\n",
    "class Rectangle(Shape):\n",
    "    def __init__(self, length, width):\n",
    "        self.length = length\n",
    "        self.width = width\n",
    "\n",
    "    def area(self):\n",
    "        return self.length * self.width\n",
    "\n",
    "\n",
    "circle = Circle(4)\n",
    "print(f\"Area of Circle: {circle.area()}\")\n",
    "\n",
    "rectangle = Rectangle(2, 5)\n",
    "print(f\"Area of Rectangle: {rectangle.area()}\")"
   ]
  },
  {
   "cell_type": "markdown",
   "id": "8d721047",
   "metadata": {},
   "source": [
    "###  3. Implement a multi-level inheritance scenario where a class Vehicle has an attribute type. Derive a class Car and further derive a class ElectricCar that adds a battery attribute."
   ]
  },
  {
   "cell_type": "code",
   "execution_count": 9,
   "id": "720070e1",
   "metadata": {},
   "outputs": [
    {
     "name": "stdout",
     "output_type": "stream",
     "text": [
      "Vehicle type: Electric\n",
      "Car brand: Tesla\n",
      "Battery capacity: 100 kWh\n"
     ]
    }
   ],
   "source": [
    "class Vehicle:\n",
    "    def __init__(self, type):\n",
    "        self.type = type\n",
    "\n",
    "    def display_type(self):\n",
    "        print(f\"Vehicle type: {self.type}\")\n",
    "\n",
    "class Car(Vehicle):\n",
    "    def __init__(self, type, brand):\n",
    "        super().__init__(type)\n",
    "        self.brand = brand\n",
    "\n",
    "    def display_brand(self):\n",
    "        print(f\"Car brand: {self.brand}\")\n",
    "\n",
    "class ElectricCar(Car):\n",
    "    def __init__(self, type, brand, battery):\n",
    "        super().__init__(type, brand)\n",
    "        self.battery = battery\n",
    "\n",
    "    def display_battery(self):\n",
    "        print(f\"Battery capacity: {self.battery} kWh\")\n",
    "\n",
    "# Example usage:\n",
    "ev = ElectricCar(\"Electric\", \"Tesla\", 100)\n",
    "ev.display_type()\n",
    "ev.display_brand()\n",
    "ev.display_battery()"
   ]
  },
  {
   "cell_type": "markdown",
   "id": "47106fd5",
   "metadata": {},
   "source": [
    "###  4. Implement a multi-level inheritance scenario where a class Vehicle has an attribute type. Derive a class Car and further derive a class ElectricCar that adds a battery attribute."
   ]
  },
  {
   "cell_type": "code",
   "execution_count": 6,
   "id": "93b6db18",
   "metadata": {},
   "outputs": [
    {
     "name": "stdout",
     "output_type": "stream",
     "text": [
      "Vehicle type: Electric\n",
      "Car brand: Tesla\n",
      "Battery capacity: 100 kWh\n"
     ]
    }
   ],
   "source": [
    "class Vehicle:\n",
    "    def __init__(self, type):\n",
    "        self.type = type\n",
    "\n",
    "    def display_type(self):\n",
    "        print(f\"Vehicle type: {self.type}\")\n",
    "\n",
    "class Car(Vehicle):\n",
    "    def __init__(self, type, brand):\n",
    "        super().__init__(type)\n",
    "        self.brand = brand\n",
    "\n",
    "    def display_brand(self):\n",
    "        print(f\"Car brand: {self.brand}\")\n",
    "\n",
    "class ElectricCar(Car):\n",
    "    def __init__(self, type, brand, battery):\n",
    "        super().__init__(type, brand)\n",
    "        self.battery = battery\n",
    "\n",
    "    def display_battery(self):\n",
    "        print(f\"Battery capacity: {self.battery} kWh\")\n",
    "\n",
    "# Example usage:\n",
    "ev = ElectricCar(\"Electric\", \"Tesla\", 100)\n",
    "ev.display_type()\n",
    "ev.display_brand()\n",
    "ev.display_battery()"
   ]
  },
  {
   "cell_type": "markdown",
   "id": "3be6d481",
   "metadata": {},
   "source": [
    "###  5. Write a program to demonstrate encapsulation by creating a class BankAccount with private attributes balance and methods to deposit, withdraw, and check balance."
   ]
  },
  {
   "cell_type": "code",
   "execution_count": 7,
   "id": "38723843",
   "metadata": {},
   "outputs": [
    {
     "name": "stdout",
     "output_type": "stream",
     "text": [
      "Deposited: ₹1500\n",
      "Withdrew: ₹2000\n",
      "Current balance: ₹4500\n"
     ]
    }
   ],
   "source": [
    "class BankAccount:\n",
    "    def __init__(self, initial_balance):\n",
    "        self.__balance = initial_balance  # Private attribute\n",
    "\n",
    "    def deposit(self, amount):\n",
    "        if amount > 0:\n",
    "            self.__balance += amount\n",
    "            print(f\"Deposited: ₹{amount}\")\n",
    "        else:\n",
    "            print(\"Deposit amount must be positive.\")\n",
    "\n",
    "    def withdraw(self, amount):\n",
    "        if 0 < amount <= self.__balance:\n",
    "            self.__balance -= amount\n",
    "            print(f\"Withdrew: ₹{amount}\")\n",
    "        else:\n",
    "            print(\"Invalid withdrawal amount or insufficient funds.\")\n",
    "\n",
    "    def check_balance(self):\n",
    "        print(f\"Current balance: ₹{self.__balance}\")\n",
    "\n",
    "# Example usage:\n",
    "account = BankAccount(5000)\n",
    "account.deposit(1500)\n",
    "account.withdraw(2000)\n",
    "account.check_balance()"
   ]
  },
  {
   "cell_type": "markdown",
   "id": "8d5b9353",
   "metadata": {},
   "source": [
    "###  6. Demonstrate runtime polymorphism using a method play() in a base class Instrument. Derive classes Guitar and Piano that implement their own version of play()."
   ]
  },
  {
   "cell_type": "code",
   "execution_count": 8,
   "id": "cfa95099",
   "metadata": {},
   "outputs": [
    {
     "name": "stdout",
     "output_type": "stream",
     "text": [
      "Strumming the guitar.\n",
      "Playing the piano keys.\n"
     ]
    }
   ],
   "source": [
    "class Instrument:\n",
    "    def play(self):\n",
    "        print(\"Playing an instrument.\")\n",
    "\n",
    "class Guitar(Instrument):\n",
    "    def play(self):\n",
    "        print(\"Strumming the guitar.\")\n",
    "\n",
    "class Piano(Instrument):\n",
    "    def play(self):\n",
    "        print(\"Playing the piano keys.\")\n",
    "\n",
    "# Example usage with runtime polymorphism\n",
    "def perform(instrument):\n",
    "    instrument.play()\n",
    "\n",
    "# Creating objects\n",
    "guitar = Guitar()\n",
    "piano = Piano()\n",
    "\n",
    "# Calling play() dynamically at runtime\n",
    "perform(guitar)  # Output: Strumming the guitar.\n",
    "perform(piano)   # Output: Playing the piano keys."
   ]
  },
  {
   "cell_type": "markdown",
   "id": "7172f1b6",
   "metadata": {},
   "source": [
    "###  7. Create a class MathOperations with a class method add_numbers() to add two numbers and a static method subtract_numbers() to subtract two numbers."
   ]
  },
  {
   "cell_type": "code",
   "execution_count": 10,
   "id": "7e2cc45d",
   "metadata": {},
   "outputs": [
    {
     "name": "stdout",
     "output_type": "stream",
     "text": [
      "Sum: 8\n",
      "Difference: 6\n"
     ]
    }
   ],
   "source": [
    "class MathOperations:\n",
    "    @classmethod\n",
    "    def add_numbers(cls, a, b):\n",
    "        return a + b\n",
    "\n",
    "    @staticmethod\n",
    "    def subtract_numbers(a, b):\n",
    "        return a - b\n",
    "\n",
    "# Example usage:\n",
    "sum_result = MathOperations.add_numbers(5, 3)\n",
    "difference_result = MathOperations.subtract_numbers(10, 4)\n",
    "\n",
    "print(f\"Sum: {sum_result}\")\n",
    "print(f\"Difference: {difference_result}\")"
   ]
  },
  {
   "cell_type": "markdown",
   "id": "c6f3bdfe",
   "metadata": {},
   "source": [
    "###  8. Implement a class Person with a class method to count the total number of persons created."
   ]
  },
  {
   "cell_type": "code",
   "execution_count": 12,
   "id": "a0af2a76",
   "metadata": {},
   "outputs": [
    {
     "name": "stdout",
     "output_type": "stream",
     "text": [
      "Total persons created: 4\n"
     ]
    }
   ],
   "source": [
    "class Person:\n",
    "    count = 0  # Class variable to store the number of persons\n",
    "\n",
    "    def __init__(self, name):\n",
    "        self.name = name\n",
    "        Person.count += 1  # Increment the count when a new instance is created\n",
    "\n",
    "    @classmethod\n",
    "    def total_persons(cls):\n",
    "        return cls.count  # Return the total number of persons created\n",
    "\n",
    "# Example usage:\n",
    "p1 = Person(\"Chandana\")\n",
    "p2 = Person(\"Jyothi\")\n",
    "p3 = Person(\"Harsha\")\n",
    "p4 = Person(\"Sangeeta\")\n",
    "\n",
    "print(f\"Total persons created: {Person.total_persons()}\")"
   ]
  },
  {
   "cell_type": "markdown",
   "id": "c3e4198f",
   "metadata": {},
   "source": [
    "###  9. Write a class Fraction with attributes numerator and denominator. Override the str method to display the fraction as \"numerator/denominator\"."
   ]
  },
  {
   "cell_type": "code",
   "execution_count": 15,
   "id": "8ecc326d",
   "metadata": {},
   "outputs": [
    {
     "name": "stdout",
     "output_type": "stream",
     "text": [
      "2/4\n",
      "3/2\n"
     ]
    }
   ],
   "source": [
    "class Fraction:\n",
    "    def __init__(self, numerator, denominator):\n",
    "        if denominator == 0:\n",
    "            raise ValueError(\"Denominator cannot be zero.\")\n",
    "        self.numerator = numerator\n",
    "        self.denominator = denominator\n",
    "\n",
    "    def __str__(self):\n",
    "        return f\"{self.numerator}/{self.denominator}\"\n",
    "\n",
    "# Example usage:\n",
    "f1 = Fraction(2, 4)\n",
    "f2 = Fraction(3, 2)\n",
    "\n",
    "print(f1)  # Output: 2/4\n",
    "print(f2)  # Output: 3/2"
   ]
  },
  {
   "cell_type": "markdown",
   "id": "1db87461",
   "metadata": {},
   "source": [
    "###  10. Demonstrate operator overloading by creating a class Vector and overriding the add method to add two vectors."
   ]
  },
  {
   "cell_type": "code",
   "execution_count": 16,
   "id": "d6f04796",
   "metadata": {},
   "outputs": [
    {
     "name": "stdout",
     "output_type": "stream",
     "text": [
      "Vector(2, 3)\n",
      "Vector(4, 1)\n",
      "Vector(6, 4)\n"
     ]
    }
   ],
   "source": [
    "class Vector:\n",
    "    def __init__(self, x, y):\n",
    "        self.x = x\n",
    "        self.y = y\n",
    "\n",
    "    def __add__(self, other):\n",
    "        return Vector(self.x + other.x, self.y + other.y)\n",
    "\n",
    "    def __str__(self):\n",
    "        return f\"Vector({self.x}, {self.y})\"\n",
    "\n",
    "# Example usage:\n",
    "v1 = Vector(2, 3)\n",
    "v2 = Vector(4, 1)\n",
    "v3 = v1 + v2  # Overloaded '+' operator\n",
    "\n",
    "print(v1)  # Output: Vector(2, 3)\n",
    "print(v2)  # Output: Vector(4, 1)\n",
    "print(v3)  # Output: Vector(6, 4)"
   ]
  },
  {
   "cell_type": "markdown",
   "id": "4a253b7e",
   "metadata": {},
   "source": [
    "###  11. Create a class Person with attributes name and age. Add a method greet() that prints \"Hello, my name is {name} and I am {age} years old.\""
   ]
  },
  {
   "cell_type": "code",
   "execution_count": 18,
   "id": "96b8db07",
   "metadata": {},
   "outputs": [
    {
     "name": "stdout",
     "output_type": "stream",
     "text": [
      "Hello, my name is Chandana and I am 20 years old.\n"
     ]
    }
   ],
   "source": [
    "class Person:\n",
    "    def __init__(self, name, age):\n",
    "        self.name = name\n",
    "        self.age = age\n",
    "\n",
    "    def greet(self):\n",
    "        print(f\"Hello, my name is {self.name} and I am {self.age} years old.\")\n",
    "\n",
    "# Example usage:\n",
    "p1 = Person(\"Chandana\", 20)\n",
    "p1.greet()  # Output: Hello, my name is Chandana and I am 25 years old."
   ]
  },
  {
   "cell_type": "markdown",
   "id": "70a26142",
   "metadata": {},
   "source": [
    "###  12. Implement a class Student with attributes name and grades. Create a method average_grade() to compute the average of the grades."
   ]
  },
  {
   "cell_type": "code",
   "execution_count": 22,
   "id": "52205be6",
   "metadata": {},
   "outputs": [
    {
     "name": "stdout",
     "output_type": "stream",
     "text": [
      "Chandana's average grade: 93.25\n",
      "Srija's average grade: 86.50\n"
     ]
    }
   ],
   "source": [
    "class Student:\n",
    "    def __init__(self, name, grades):\n",
    "        self.name = name\n",
    "        self.grades = grades  # List of grades\n",
    "\n",
    "    def average_grade(self):\n",
    "        if self.grades:\n",
    "            return sum(self.grades) / len(self.grades)\n",
    "        return 0  # Return 0 if there are no grades\n",
    "\n",
    "# Example usage:\n",
    "student1 = Student(\"Chandana\", [97, 95, 89, 92])\n",
    "student2 = Student(\"Srija\",[92, 87, 77, 90])\n",
    "print(f\"{student1.name}'s average grade: {student1.average_grade():.2f}\")\n",
    "print(f\"{student2.name}'s average grade: {student2.average_grade():.2f}\")"
   ]
  },
  {
   "cell_type": "markdown",
   "id": "dd857c06",
   "metadata": {},
   "source": [
    "###  13. Create a class Rectangle with methods set_dimensions() to set the dimensions and area() to calculate the area."
   ]
  },
  {
   "cell_type": "code",
   "execution_count": 23,
   "id": "ee4a504d",
   "metadata": {},
   "outputs": [
    {
     "name": "stdout",
     "output_type": "stream",
     "text": [
      "Area of the rectangle: 15\n"
     ]
    }
   ],
   "source": [
    "class Rectangle:\n",
    "    def __init__(self, length=0, width=0):\n",
    "        self.length = length\n",
    "        self.width = width\n",
    "\n",
    "    def set_dimensions(self, length, width):\n",
    "        self.length = length\n",
    "        self.width = width\n",
    "\n",
    "    def area(self):\n",
    "        return self.length * self.width\n",
    "\n",
    "# Example usage:\n",
    "rect = Rectangle()\n",
    "rect.set_dimensions(5, 3)\n",
    "print(f\"Area of the rectangle: {rect.area()}\")  # Output: Area of the rectangle: 15"
   ]
  },
  {
   "cell_type": "markdown",
   "id": "69ec1c05",
   "metadata": {},
   "source": [
    "###  14. Create a class Employee with a method calculate_salary() that computes the salary based on hours worked and hourly rate. Create a derived class Manager that adds a bonus to the salary."
   ]
  },
  {
   "cell_type": "code",
   "execution_count": 25,
   "id": "90b58b7c",
   "metadata": {},
   "outputs": [
    {
     "name": "stdout",
     "output_type": "stream",
     "text": [
      "Chandu's Salary: ₹2250\n",
      "Harsha's Salary: ₹3200\n"
     ]
    }
   ],
   "source": [
    "class Employee:\n",
    "    def __init__(self, name, hours_worked, hourly_rate):\n",
    "        self.name = name\n",
    "        self.hours_worked = hours_worked\n",
    "        self.hourly_rate = hourly_rate\n",
    "\n",
    "    def calculate_salary(self):\n",
    "        return self.hours_worked * self.hourly_rate\n",
    "\n",
    "class Manager(Employee):\n",
    "    def __init__(self, name, hours_worked, hourly_rate, bonus):\n",
    "        super().__init__(name, hours_worked, hourly_rate)\n",
    "        self.bonus = bonus\n",
    "\n",
    "    def calculate_salary(self):\n",
    "        return super().calculate_salary() + self.bonus\n",
    "\n",
    "# Example usage:\n",
    "emp = Employee(\"Chandu\", 45, 50)\n",
    "mgr = Manager(\"Harsha\", 45, 60, 500)\n",
    "\n",
    "print(f\"{emp.name}'s Salary: ₹{emp.calculate_salary()}\")\n",
    "print(f\"{mgr.name}'s Salary: ₹{mgr.calculate_salary()}\")"
   ]
  },
  {
   "cell_type": "markdown",
   "id": "5ede121f",
   "metadata": {},
   "source": [
    "### 15. Create a class Product with attributes name, price, and quantity. Implement a method total_price() that calculates the total price of the product."
   ]
  },
  {
   "cell_type": "code",
   "execution_count": 27,
   "id": "71d79adf",
   "metadata": {},
   "outputs": [
    {
     "name": "stdout",
     "output_type": "stream",
     "text": [
      "Total price of Laptop: ₹100000\n",
      "Total price of Smartphone: ₹60000\n"
     ]
    }
   ],
   "source": [
    "class Product:\n",
    "    def __init__(self, name, price, quantity):\n",
    "        self.name = name\n",
    "        self.price = price\n",
    "        self.quantity = quantity\n",
    "\n",
    "    def total_price(self):\n",
    "        return self.price * self.quantity\n",
    "\n",
    "# Example usage:\n",
    "product1 = Product(\"Laptop\", 50000, 2)\n",
    "product2 = Product(\"Smartphone\", 20000, 3)\n",
    "\n",
    "print(f\"Total price of {product1.name}: ₹{product1.total_price()}\")\n",
    "print(f\"Total price of {product2.name}: ₹{product2.total_price()}\")"
   ]
  },
  {
   "cell_type": "markdown",
   "id": "71c34536",
   "metadata": {},
   "source": [
    "###  16. Create a class Animal with an abstract method sound(). Create two derived classes Cow and Sheep that implement the sound() method."
   ]
  },
  {
   "cell_type": "code",
   "execution_count": 28,
   "id": "b8b2bcee",
   "metadata": {},
   "outputs": [
    {
     "name": "stdout",
     "output_type": "stream",
     "text": [
      "Cow says: Moo\n",
      "Sheep says: Baa\n"
     ]
    }
   ],
   "source": [
    "from abc import ABC, abstractmethod\n",
    "\n",
    "class Animal(ABC):\n",
    "    @abstractmethod\n",
    "    def sound(self):\n",
    "        pass  # Abstract method that must be implemented in derived classes\n",
    "\n",
    "class Cow(Animal):\n",
    "    def sound(self):\n",
    "        return \"Moo\"\n",
    "\n",
    "class Sheep(Animal):\n",
    "    def sound(self):\n",
    "        return \"Baa\"\n",
    "\n",
    "# Example usage:\n",
    "cow = Cow()\n",
    "sheep = Sheep()\n",
    "\n",
    "print(f\"Cow says: {cow.sound()}\")\n",
    "print(f\"Sheep says: {sheep.sound()}\")"
   ]
  },
  {
   "cell_type": "markdown",
   "id": "4c808b61",
   "metadata": {},
   "source": [
    "###  17. Create a class Book with attributes title, author, and year_published. Add a method get_book_info() that returns a formatted string with the book's details."
   ]
  },
  {
   "cell_type": "code",
   "execution_count": 30,
   "id": "a41f762f",
   "metadata": {},
   "outputs": [
    {
     "name": "stdout",
     "output_type": "stream",
     "text": [
      "'Karma Yoga' by Swami Vivekananda, published in 1896\n",
      "'Hamlet' by William Shakespeare, published in 1623\n"
     ]
    }
   ],
   "source": [
    "class Book:\n",
    "    def __init__(self, title, author, year_published):\n",
    "        self.title = title\n",
    "        self.author = author\n",
    "        self.year_published = year_published\n",
    "\n",
    "    def get_book_info(self):\n",
    "        return f\"'{self.title}' by {self.author}, published in {self.year_published}\"\n",
    "\n",
    "# Example usage:\n",
    "book1 = Book(\"Karma Yoga\", \"Swami Vivekananda\", 1896)\n",
    "book2 = Book(\"Hamlet\", \"William Shakespeare\", 1623)\n",
    "\n",
    "print(book1.get_book_info())  # Output: 'Pride and Prejudice' by Jane Austen, published in 1813\n",
    "print(book2.get_book_info())  # Output: '1984' by George Orwell, published in 1949"
   ]
  },
  {
   "cell_type": "markdown",
   "id": "bea6ab51",
   "metadata": {},
   "source": [
    "###  18. Create a class House with attributes address and price. Create a derived class Mansion that adds an attribute number_of_rooms."
   ]
  },
  {
   "cell_type": "code",
   "execution_count": 32,
   "id": "f79184ec",
   "metadata": {},
   "outputs": [
    {
     "name": "stdout",
     "output_type": "stream",
     "text": [
      "House located at 123 Street, Hyderabad, priced at ₹5000000\n",
      "Mansion located at 456 Avenue, Mumbai, priced at ₹25000000, with 10 rooms\n"
     ]
    }
   ],
   "source": [
    "class House:\n",
    "    def __init__(self, address, price):\n",
    "        self.address = address\n",
    "        self.price = price\n",
    "\n",
    "    def display_info(self):\n",
    "        return f\"House located at {self.address}, priced at ₹{self.price}\"\n",
    "\n",
    "class Mansion(House):\n",
    "    def __init__(self, address, price, number_of_rooms):\n",
    "        super().__init__(address, price)\n",
    "        self.number_of_rooms = number_of_rooms\n",
    "\n",
    "    def display_info(self):\n",
    "        return f\"Mansion located at {self.address}, priced at ₹{self.price}, with {self.number_of_rooms} rooms\"\n",
    "\n",
    "# Example usage:\n",
    "house = House(\"123 Street, Hyderabad\", 5000000)\n",
    "mansion = Mansion(\"456 Avenue, Mumbai\", 25000000, 10)\n",
    "\n",
    "print(house.display_info())  # Output: House located at 123 Street, Hyderabad, priced at ₹5000000\n",
    "print(mansion.display_info())  # Output: Mansion located at 456 Avenue, Mumbai, priced at ₹25000000, with 10 rooms"
   ]
  },
  {
   "cell_type": "code",
   "execution_count": null,
   "id": "9ed98e69",
   "metadata": {},
   "outputs": [],
   "source": []
  }
 ],
 "metadata": {
  "kernelspec": {
   "display_name": "Python 3 (ipykernel)",
   "language": "python",
   "name": "python3"
  },
  "language_info": {
   "codemirror_mode": {
    "name": "ipython",
    "version": 3
   },
   "file_extension": ".py",
   "mimetype": "text/x-python",
   "name": "python",
   "nbconvert_exporter": "python",
   "pygments_lexer": "ipython3",
   "version": "3.11.4"
  }
 },
 "nbformat": 4,
 "nbformat_minor": 5
}
